{
  "nbformat": 4,
  "nbformat_minor": 0,
  "metadata": {
    "colab": {
      "name": "PyTorch-CIFAR-10.ipynb",
      "version": "0.3.2",
      "provenance": [],
      "collapsed_sections": []
    },
    "kernelspec": {
      "display_name": "Python 2",
      "language": "python",
      "name": "python2"
    }
  },
  "cells": [
    {
      "metadata": {
        "id": "SPFq0j8CwgR1",
        "colab_type": "text"
      },
      "cell_type": "markdown",
      "source": [
        "This code is derived from https://github.com/andersy005/deep-frameworks-quest/blob/master/CIFAR-10/PyTorch-CIFAR-10.ipynb and was slightly modified to run on Google Colab."
      ]
    },
    {
      "metadata": {
        "id": "X6dg2KHUXwJD",
        "colab_type": "text"
      },
      "cell_type": "markdown",
      "source": [
        "<h1 align=\"center\"> CIFAR-10 - Object Recognition in Images </h1>\n",
        "![](http://pytorch.org/tutorials/_images/cifar10.png)"
      ]
    },
    {
      "metadata": {
        "id": "7mEv_-ROXwJE",
        "colab_type": "text"
      },
      "cell_type": "markdown",
      "source": [
        "## Data Introduction\n",
        "The CIFAR-10 data consists of **60,000** 32x32 color images in **10 classes**, with 6000 images per class. There are **50,000 training images** and **10,000 test images** in the official data.\n",
        "\n",
        "CIFAR-10 has the classes: \n",
        "- airplane \n",
        "- automobile \n",
        "- bird\n",
        "- cat \n",
        "- deer\n",
        "- dog\n",
        "- frog\n",
        "- horse\n",
        "- ship\n",
        "- truck\n"
      ]
    },
    {
      "metadata": {
        "id": "Z-d3-swXXwJG",
        "colab_type": "text"
      },
      "cell_type": "markdown",
      "source": [
        "## Import Packages\n"
      ]
    },
    {
      "metadata": {
        "id": "QNuiB0yAX9Hn",
        "colab_type": "code",
        "outputId": "27e97d66-f587-4768-9b2b-2d35b1a40780",
        "colab": {
          "base_uri": "https://localhost:8080/",
          "height": 272
        }
      },
      "cell_type": "code",
      "source": [
        "# http://pytorch.org/\n",
        "from os.path import exists\n",
        "from wheel.pep425tags import get_abbr_impl, get_impl_ver, get_abi_tag\n",
        "platform = '{}{}-{}'.format(get_abbr_impl(), get_impl_ver(), get_abi_tag())\n",
        "cuda_output = !ldconfig -p|grep cudart.so|sed -e 's/.*\\.\\([0-9]*\\)\\.\\([0-9]*\\)$/cu\\1\\2/'\n",
        "accelerator = cuda_output[0] if exists('/dev/nvidia0') else 'cpu'\n",
        "!pip install -q http://download.pytorch.org/whl/{accelerator}/torch-0.4.1-{platform}-linux_x86_64.whl torchvision\n",
        "!pip install bokeh"
      ],
      "execution_count": 0,
      "outputs": [
        {
          "output_type": "stream",
          "text": [
            "Requirement already satisfied: bokeh in /usr/local/lib/python2.7/dist-packages (1.0.0)\n",
            "Requirement already satisfied: numpy>=1.7.1 in /usr/local/lib/python2.7/dist-packages (from bokeh) (1.14.6)\n",
            "Requirement already satisfied: packaging>=16.8 in /usr/local/lib/python2.7/dist-packages (from bokeh) (18.0)\n",
            "Requirement already satisfied: PyYAML>=3.10 in /usr/local/lib/python2.7/dist-packages (from bokeh) (3.13)\n",
            "Requirement already satisfied: Jinja2>=2.7 in /usr/local/lib/python2.7/dist-packages (from bokeh) (2.10)\n",
            "Requirement already satisfied: futures>=3.0.3 in /usr/local/lib/python2.7/dist-packages (from bokeh) (3.2.0)\n",
            "Requirement already satisfied: six>=1.5.2 in /usr/local/lib/python2.7/dist-packages (from bokeh) (1.11.0)\n",
            "Requirement already satisfied: python-dateutil>=2.1 in /usr/local/lib/python2.7/dist-packages (from bokeh) (2.5.3)\n",
            "Requirement already satisfied: tornado>=4.3 in /usr/local/lib/python2.7/dist-packages (from bokeh) (4.5.3)\n",
            "Requirement already satisfied: pillow>=4.0 in /usr/local/lib/python2.7/dist-packages (from bokeh) (5.3.0)\n",
            "Requirement already satisfied: pyparsing>=2.0.2 in /usr/local/lib/python2.7/dist-packages (from packaging>=16.8->bokeh) (2.2.2)\n",
            "Requirement already satisfied: MarkupSafe>=0.23 in /usr/local/lib/python2.7/dist-packages (from Jinja2>=2.7->bokeh) (1.0)\n",
            "Requirement already satisfied: singledispatch in /usr/local/lib/python2.7/dist-packages (from tornado>=4.3->bokeh) (3.4.0.3)\n",
            "Requirement already satisfied: certifi in /usr/local/lib/python2.7/dist-packages (from tornado>=4.3->bokeh) (2018.10.15)\n",
            "Requirement already satisfied: backports_abc>=0.4 in /usr/local/lib/python2.7/dist-packages (from tornado>=4.3->bokeh) (0.5)\n"
          ],
          "name": "stdout"
        }
      ]
    },
    {
      "metadata": {
        "id": "P5l8pfCaXwJH",
        "colab_type": "code",
        "colab": {}
      },
      "cell_type": "code",
      "source": [
        "import torch\n",
        "import torchvision\n",
        "import torchvision.transforms as transforms\n",
        "import torch.nn as nn\n",
        "import torch.nn.functional as F\n",
        "from torch.autograd import Variable\n",
        "import torch.optim as optim\n",
        "import numpy as np\n",
        "import matplotlib as mpl\n",
        "import matplotlib.pyplot as plt\n",
        "import bokeh\n",
        "from sklearn.preprocessing import OneHotEncoder\n",
        "from sklearn.model_selection import cross_val_score, GridSearchCV\n",
        "import pickle\n",
        "import sklearn\n",
        "from __future__ import print_function\n",
        "%matplotlib inline"
      ],
      "execution_count": 0,
      "outputs": []
    },
    {
      "metadata": {
        "id": "1xJpQdIhXwJL",
        "colab_type": "code",
        "outputId": "7f33bab5-1f3a-4255-f980-9017fd4225fd",
        "colab": {
          "base_uri": "https://localhost:8080/",
          "height": 85
        }
      },
      "cell_type": "code",
      "source": [
        "print('The scikit-learn version is {}.'.format(sklearn.__version__))\n",
        "print('The PyTorch version is {}.'.format(torch.__version__))\n",
        "print('The NumPy version is {}.'.format(np.__version__))\n",
        "print('The Matplotlib version is {}.'.format(mpl.__version__))"
      ],
      "execution_count": 0,
      "outputs": [
        {
          "output_type": "stream",
          "text": [
            "The scikit-learn version is 0.19.2.\n",
            "The PyTorch version is 0.4.1.\n",
            "The NumPy version is 1.14.6.\n",
            "The Matplotlib version is 2.1.2.\n"
          ],
          "name": "stdout"
        }
      ]
    },
    {
      "metadata": {
        "id": "Sinm_yCAXwJS",
        "colab_type": "text"
      },
      "cell_type": "markdown",
      "source": [
        "## Training an image classifier\n",
        "\n",
        "We will do the following steps in order.\n",
        "\n",
        "### Step1: Load and normalizing the CIFAR10 training and test datasets using ```torchvision```\n",
        "\n",
        "The output of torchvision datasets are PILImage images of range [0, 1]. We transform them to Tensors of normalized range [-1, 1]"
      ]
    },
    {
      "metadata": {
        "id": "FYdYSw6QXwJV",
        "colab_type": "text"
      },
      "cell_type": "markdown",
      "source": [
        "The ```transforms.Compose(transforms)``` class Composes several transforms together.\n",
        "\n",
        "<p  style=\"color:blue;\"> Parameters:</p>\n",
        "<ul  style=\"color:red;\">\n",
        "    <li>  transforms (List[Transform]): – list of transforms to compose.</li>\n",
        "</ul>\n",
        "\n",
        "In our case we are going to do two transforms:\n",
        "- ```ToTensor()```\n",
        "- ```Normalize()```\n"
      ]
    },
    {
      "metadata": {
        "id": "HJcJL1kOXwJX",
        "colab_type": "code",
        "colab": {}
      },
      "cell_type": "code",
      "source": [
        "transform = transforms.Compose(\n",
        "             [transforms.ToTensor(), \n",
        "              transforms.Normalize((0.5, 0.5, 0.5), (0.5, 0.5, 0.5))])"
      ],
      "execution_count": 0,
      "outputs": []
    },
    {
      "metadata": {
        "id": "IbFWHSnCXwJb",
        "colab_type": "code",
        "outputId": "de7e0caf-786e-43e1-8a79-550eab518057",
        "colab": {
          "base_uri": "https://localhost:8080/",
          "height": 51
        }
      },
      "cell_type": "code",
      "source": [
        "# Load the training and test datasets\n",
        "trainset = torchvision.datasets.CIFAR10(root='./data', train=True, download=True,\n",
        "                                        transform = transform)\n",
        "\n",
        "trainloader = torch.utils.data.DataLoader(trainset, batch_size=5,\n",
        "                                         shuffle=True, num_workers=2)\n",
        "\n",
        "testset = torchvision.datasets.CIFAR10(root='./data', train=False,\n",
        "                                       download=True, transform=transform)\n",
        "\n",
        "testloader = torch.utils.data.DataLoader(testset, batch_size=5,\n",
        "                                         shuffle=False, num_workers=2)"
      ],
      "execution_count": 0,
      "outputs": [
        {
          "output_type": "stream",
          "text": [
            "Files already downloaded and verified\n",
            "Files already downloaded and verified\n"
          ],
          "name": "stdout"
        }
      ]
    },
    {
      "metadata": {
        "id": "985c9QKpXwJi",
        "colab_type": "code",
        "colab": {}
      },
      "cell_type": "code",
      "source": [
        "classes = ('plane', 'car', 'bird', 'cat',\n",
        "           'deer', 'dog', 'frog', 'horse', 'ship', 'truck')"
      ],
      "execution_count": 0,
      "outputs": []
    },
    {
      "metadata": {
        "id": "mDMKe4BKXwJo",
        "colab_type": "text"
      },
      "cell_type": "markdown",
      "source": [
        "#### Data Exploration\n",
        "Let's plot some training images"
      ]
    },
    {
      "metadata": {
        "id": "LVGH-hKCXwJp",
        "colab_type": "code",
        "colab": {}
      },
      "cell_type": "code",
      "source": [
        "def plot_images(img):\n",
        "    img = img / 2 + 0.5  # unnormalize\n",
        "    npimg = img.numpy()\n",
        "    plt.imshow(np.transpose(npimg, (1, 2, 0)), interpolation='nearest')\n",
        "    \n",
        "    "
      ],
      "execution_count": 0,
      "outputs": []
    },
    {
      "metadata": {
        "id": "znk1vNROXwJv",
        "colab_type": "code",
        "outputId": "ed4a0e25-ec40-456e-f906-7cfd7167f633",
        "colab": {
          "base_uri": "https://localhost:8080/",
          "height": 136
        }
      },
      "cell_type": "code",
      "source": [
        "# get some random training images\n",
        "dataiter = iter(trainloader)\n",
        "images, labels = dataiter.next()\n",
        "\n",
        "# Plot images\n",
        "plot_images(torchvision.utils.make_grid(images, nrow=5, padding=1))\n",
        "\n",
        "# print labels\n",
        "print(' '.join('%8s' % classes[labels[j]] for j in range(5)))"
      ],
      "execution_count": 0,
      "outputs": [
        {
          "output_type": "stream",
          "text": [
            "    frog     bird    plane      dog    truck\n"
          ],
          "name": "stdout"
        },
        {
          "output_type": "display_data",
          "data": {
            "image/png": "[encoded data removed]",
            "text/plain": [
              "<matplotlib.figure.Figure at 0x7f8231260a10>"
            ]
          },
          "metadata": {
            "tags": []
          }
        }
      ]
    },
    {
      "metadata": {
        "collapsed": true,
        "id": "CLgHz6ANXwJ3",
        "colab_type": "text"
      },
      "cell_type": "markdown",
      "source": [
        "### Step2: Define a Convolution Neural Network\n",
        "\n",
        "- [```nn.Module```](http://pytorch.org/docs/nn.html#torch.nn.Module): Base class for all neural network module. All models should also subclass this class.\n",
        "\n",
        "- [```nn.Conv2d(in_channels, out_channels, kernel_size, stride=1, padding=0, dilation=1, groups=1, bias=True)```](http://pytorch.org/docs/nn.html#torch.nn.Conv2d)"
      ]
    },
    {
      "metadata": {
        "id": "zqhPb1T2XwJ4",
        "colab_type": "code",
        "colab": {}
      },
      "cell_type": "code",
      "source": [
        "class Net(nn.Module):\n",
        "    def __init__(self):\n",
        "        super(Net, self).__init__()\n",
        "        self.conv1 = nn.Conv2d(3, 6, 5)\n",
        "        self.pool = nn.MaxPool2d(2, 2)\n",
        "        self.conv2 = nn.Conv2d(6, 16, 5)\n",
        "        self.fc1 = nn.Linear(16 * 5 * 5, 120)\n",
        "        self.fc2 = nn.Linear(120, 84)\n",
        "        self.fc3 = nn.Linear(84, 10)\n",
        "        \n",
        "    def forward(self, x):\n",
        "        x = self.pool(F.relu(self.conv1(x)))\n",
        "        x = self.pool(F.relu(self.conv2(x)))\n",
        "        x = x.view(-1, 16 * 5 * 5)\n",
        "        x = F.relu(self.fc1(x))\n",
        "        x = F.relu(self.fc2(x))\n",
        "        x = self.fc3(x)\n",
        "        return x\n",
        "    "
      ],
      "execution_count": 0,
      "outputs": []
    },
    {
      "metadata": {
        "id": "OSlfar4wXwJ8",
        "colab_type": "code",
        "outputId": "3ac6f902-890c-4f31-e4b1-799d34089369",
        "colab": {
          "base_uri": "https://localhost:8080/",
          "height": 153
        }
      },
      "cell_type": "code",
      "source": [
        "net = Net()\n",
        "print(net)"
      ],
      "execution_count": 0,
      "outputs": [
        {
          "output_type": "stream",
          "text": [
            "Net(\n",
            "  (conv1): Conv2d(3, 6, kernel_size=(5, 5), stride=(1, 1))\n",
            "  (pool): MaxPool2d(kernel_size=2, stride=2, padding=0, dilation=1, ceil_mode=False)\n",
            "  (conv2): Conv2d(6, 16, kernel_size=(5, 5), stride=(1, 1))\n",
            "  (fc1): Linear(in_features=400, out_features=120, bias=True)\n",
            "  (fc2): Linear(in_features=120, out_features=84, bias=True)\n",
            "  (fc3): Linear(in_features=84, out_features=10, bias=True)\n",
            ")\n"
          ],
          "name": "stdout"
        }
      ]
    },
    {
      "metadata": {
        "id": "IhlCb4-yXwKH",
        "colab_type": "text"
      },
      "cell_type": "markdown",
      "source": [
        "### Step3: Define a Loss function and Optimizer\n",
        "We will use a Classification Cross-Entropy loss and SGD with momentum."
      ]
    },
    {
      "metadata": {
        "id": "dUlLqxecXwKJ",
        "colab_type": "code",
        "colab": {}
      },
      "cell_type": "code",
      "source": [
        "criterion = nn.CrossEntropyLoss()\n",
        "optimizer = optim.SGD(net.parameters(), lr=0.001, momentum=0.9)"
      ],
      "execution_count": 0,
      "outputs": []
    },
    {
      "metadata": {
        "id": "twz97FVQXwKN",
        "colab_type": "text"
      },
      "cell_type": "markdown",
      "source": [
        "### Step4: Train the network\n"
      ]
    },
    {
      "metadata": {
        "id": "PXLIg9XDXwKQ",
        "colab_type": "code",
        "colab": {}
      },
      "cell_type": "code",
      "source": [
        "def training(num_iterations):\n",
        "    for epoch in range(num_iterations): # loop over the dataset multiple times\n",
        "        print('Training: Epoch - (%d)'%(epoch))\n",
        "        running_loss = 0.0\n",
        "        \n",
        "        for i, data in enumerate(trainloader, 0):\n",
        "            # Get the inputs\n",
        "            inputs, labels = data\n",
        "            \n",
        "            # wrap them in Variable\n",
        "            inputs, labels = Variable(inputs), Variable(labels)\n",
        "            \n",
        "            # zero the parameter gradients\n",
        "            optimizer.zero_grad()\n",
        "            \n",
        "            # forward + backward + optimize\n",
        "            outputs = net(inputs)\n",
        "            loss = criterion(outputs, labels)\n",
        "            loss.backward()\n",
        "            optimizer.step()\n",
        "            \n",
        "            \n",
        "            # Print statistics\n",
        "            running_loss += loss.item()\n",
        "            \n",
        "            if i % 2000 == 1999: # print every 2000 mini-batches\n",
        "                print('[%d, %5d] loss: %.3f' %\n",
        "                  (epoch + 1, i + 1, running_loss / 2000))\n",
        "                \n",
        "                running_loss = 0.0\n",
        "                \n",
        "    print('Finished Training')"
      ],
      "execution_count": 0,
      "outputs": []
    },
    {
      "metadata": {
        "id": "RG9LctJPXwKU",
        "colab_type": "code",
        "outputId": "c15c36d2-5dfd-47b7-bab9-5dc72a554622",
        "colab": {
          "base_uri": "https://localhost:8080/",
          "height": 544
        }
      },
      "cell_type": "code",
      "source": [
        "training(num_iterations=5)"
      ],
      "execution_count": 0,
      "outputs": [
        {
          "output_type": "stream",
          "text": [
            "Training: Epoch - (0)\n",
            "[1,  2000] loss: 1.943\n",
            "[1,  4000] loss: 1.740\n",
            "[1,  6000] loss: 1.611\n",
            "[1,  8000] loss: 1.550\n",
            "[1, 10000] loss: 1.498\n",
            "Training: Epoch - (1)\n",
            "[2,  2000] loss: 1.441\n",
            "[2,  4000] loss: 1.403\n",
            "[2,  6000] loss: 1.359\n",
            "[2,  8000] loss: 1.341\n",
            "[2, 10000] loss: 1.332\n",
            "Training: Epoch - (2)\n",
            "[3,  2000] loss: 1.251\n",
            "[3,  4000] loss: 1.253\n",
            "[3,  6000] loss: 1.221\n",
            "[3,  8000] loss: 1.223\n",
            "[3, 10000] loss: 1.197\n",
            "Training: Epoch - (3)\n",
            "[4,  2000] loss: 1.130\n",
            "[4,  4000] loss: 1.129\n",
            "[4,  6000] loss: 1.127\n",
            "[4,  8000] loss: 1.132\n",
            "[4, 10000] loss: 1.121\n",
            "Training: Epoch - (4)\n",
            "[5,  2000] loss: 1.041\n",
            "[5,  4000] loss: 1.047\n",
            "[5,  6000] loss: 1.062\n",
            "[5,  8000] loss: 1.058\n",
            "[5, 10000] loss: 1.052\n",
            "Finished Training\n"
          ],
          "name": "stdout"
        }
      ]
    },
    {
      "metadata": {
        "id": "3svAR7GeXwKh",
        "colab_type": "text"
      },
      "cell_type": "markdown",
      "source": [
        "### Step5: Test the network on the test data\n",
        "Let's see if the network has learned anything after 5 passes over the training dataset.\n"
      ]
    },
    {
      "metadata": {
        "id": "1OdtgaJUXwKl",
        "colab_type": "code",
        "outputId": "f3a8b646-2a07-467f-cfdb-7dd55836371e",
        "colab": {
          "base_uri": "https://localhost:8080/",
          "height": 187
        }
      },
      "cell_type": "code",
      "source": [
        "# plot some images from the test dataset\n",
        "dataiter = iter(testloader)\n",
        "images, labels = dataiter.next()\n",
        "\n",
        "# plot images\n",
        "plot_images(torchvision.utils.make_grid(images,nrow=5, padding=1))\n",
        "\n",
        "print('GroundTruth: \\n', ' '.join('%8s' % classes[labels[j].item()] for j in range(5)))\n",
        "\n",
        "# predict class labels for test images\n",
        "outputs = net(Variable(images))\n",
        "\n",
        "_, predicted = torch.max(outputs.data, 1)\n",
        "\n",
        "print('Predicted: \\n', ' '.join('%8s' % classes[predicted[j].item()]\n",
        "                              for j in range(5)))"
      ],
      "execution_count": 0,
      "outputs": [
        {
          "output_type": "stream",
          "text": [
            "GroundTruth: \n",
            "      cat     ship     ship    plane     frog\n",
            "Predicted: \n",
            "      cat      car      car    plane      cat\n"
          ],
          "name": "stdout"
        },
        {
          "output_type": "display_data",
          "data": {
            "image/png": "[encoded data removed]",
            "text/plain": [
              "<matplotlib.figure.Figure at 0x7f823be22110>"
            ]
          },
          "metadata": {
            "tags": []
          }
        }
      ]
    },
    {
      "metadata": {
        "id": "5zlt7SGFXwKr",
        "colab_type": "text"
      },
      "cell_type": "markdown",
      "source": [
        "#### Model Accuracy Evaluation"
      ]
    },
    {
      "metadata": {
        "id": "h2-eIuCdXwKr",
        "colab_type": "code",
        "outputId": "ec354a92-9489-48c3-b083-f94e8b6762c5",
        "colab": {
          "base_uri": "https://localhost:8080/",
          "height": 34
        }
      },
      "cell_type": "code",
      "source": [
        "\n",
        "correct = 0\n",
        "total = 0\n",
        "for data in testloader:\n",
        "    images, labels = data\n",
        "    outputs = net(Variable(images))\n",
        "    _, predicted = torch.max(outputs.data, 1)\n",
        "    total += labels.size(0)\n",
        "    correct += (predicted == labels).sum()\n",
        "print('Accuracy of the network on the 10000 test images: %d %%' % (\n",
        "    100 * correct / total))    \n"
      ],
      "execution_count": 0,
      "outputs": [
        {
          "output_type": "stream",
          "text": [
            "Accuracy of the network on the 10000 test images: 60 %\n"
          ],
          "name": "stdout"
        }
      ]
    },
    {
      "metadata": {
        "id": "kJ-tvy2gXwKz",
        "colab_type": "text"
      },
      "cell_type": "markdown",
      "source": [
        "#### what are the classes that performed well, and the classes that did not perform well"
      ]
    },
    {
      "metadata": {
        "id": "9BSU7n6fXwK1",
        "colab_type": "code",
        "outputId": "e9f9bd66-6e59-4bce-ba49-4318615033fc",
        "colab": {
          "base_uri": "https://localhost:8080/",
          "height": 187
        }
      },
      "cell_type": "code",
      "source": [
        "class_correct = list(0. for i in range(10))\n",
        "class_total = list(0. for i in range(10))\n",
        "for data in testloader:\n",
        "    images, labels = data\n",
        "    outputs = net(Variable(images))\n",
        "    _, predicted = torch.max(outputs.data, 1)\n",
        "    c = (predicted == labels).squeeze()\n",
        "    for i in range(5):\n",
        "        label = labels[i]\n",
        "        class_correct[label] += c[i].item()\n",
        "        class_total[label] += 1\n",
        "\n",
        "for i in range(10):\n",
        "    print('Accuracy of {} : {}'.format(classes[i], 100 * class_correct[i] / class_total[i])\n",
        ")"
      ],
      "execution_count": 0,
      "outputs": [
        {
          "output_type": "stream",
          "text": [
            "Accuracy of plane : 71.1\n",
            "Accuracy of car : 71.0\n",
            "Accuracy of bird : 36.1\n",
            "Accuracy of cat : 47.0\n",
            "Accuracy of deer : 41.4\n",
            "Accuracy of dog : 54.0\n",
            "Accuracy of frog : 67.4\n",
            "Accuracy of horse : 78.1\n",
            "Accuracy of ship : 65.8\n",
            "Accuracy of truck : 70.8\n"
          ],
          "name": "stdout"
        }
      ]
    }
  ]
}